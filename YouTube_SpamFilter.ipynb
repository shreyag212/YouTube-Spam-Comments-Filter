{
 "cells": [
  {
   "cell_type": "markdown",
   "id": "4efbd12d",
   "metadata": {},
   "source": [
    "***\n",
    "# <center>YouTube Spam Comments Fiter Project</center>\n",
    "### -Shrey Aggarwal\n",
    "### September 19, 2021\n",
    "***\n",
    "\n",
    "I am going to classify comments in YouTube videos as spam/ham.\n",
    "<br>\n",
    "The data contains information about comments on videos from artists Psy, KatyPerry, LMFAO, Eminem, and Shakira.\n",
    "<br>\n",
    "data source: https://www.kaggle.com/lakshmi25npathi/images"
   ]
  },
  {
   "cell_type": "markdown",
   "id": "0b5f9434",
   "metadata": {},
   "source": [
    "## Data Extraction and Exploration"
   ]
  },
  {
   "cell_type": "markdown",
   "id": "480e01e0",
   "metadata": {},
   "source": [
    "Import important libraries"
   ]
  },
  {
   "cell_type": "code",
   "execution_count": 1,
   "id": "e50b673d",
   "metadata": {},
   "outputs": [],
   "source": [
    "import pandas as pd\n",
    "import seaborn as sns\n",
    "import numpy as np\n",
    "import matplotlib.pyplot as plt\n",
    "%matplotlib inline"
   ]
  },
  {
   "cell_type": "markdown",
   "id": "cd019d28",
   "metadata": {},
   "source": [
    "Extracting the first file with artist- Psy"
   ]
  },
  {
   "cell_type": "code",
   "execution_count": 2,
   "id": "16950e27",
   "metadata": {},
   "outputs": [
    {
     "data": {
      "text/html": [
       "<div>\n",
       "<style scoped>\n",
       "    .dataframe tbody tr th:only-of-type {\n",
       "        vertical-align: middle;\n",
       "    }\n",
       "\n",
       "    .dataframe tbody tr th {\n",
       "        vertical-align: top;\n",
       "    }\n",
       "\n",
       "    .dataframe thead th {\n",
       "        text-align: right;\n",
       "    }\n",
       "</style>\n",
       "<table border=\"1\" class=\"dataframe\">\n",
       "  <thead>\n",
       "    <tr style=\"text-align: right;\">\n",
       "      <th></th>\n",
       "      <th>COMMENT_ID</th>\n",
       "      <th>AUTHOR</th>\n",
       "      <th>DATE</th>\n",
       "      <th>CONTENT</th>\n",
       "      <th>CLASS</th>\n",
       "    </tr>\n",
       "  </thead>\n",
       "  <tbody>\n",
       "    <tr>\n",
       "      <th>0</th>\n",
       "      <td>LZQPQhLyRh80UYxNuaDWhIGQYNQ96IuCg-AYWqNPjpU</td>\n",
       "      <td>Julius NM</td>\n",
       "      <td>2013-11-07T06:20:48</td>\n",
       "      <td>Huh, anyway check out this you[tube] channel: ...</td>\n",
       "      <td>1</td>\n",
       "    </tr>\n",
       "    <tr>\n",
       "      <th>1</th>\n",
       "      <td>LZQPQhLyRh_C2cTtd9MvFRJedxydaVW-2sNg5Diuo4A</td>\n",
       "      <td>adam riyati</td>\n",
       "      <td>2013-11-07T12:37:15</td>\n",
       "      <td>Hey guys check out my new channel and our firs...</td>\n",
       "      <td>1</td>\n",
       "    </tr>\n",
       "    <tr>\n",
       "      <th>2</th>\n",
       "      <td>LZQPQhLyRh9MSZYnf8djyk0gEF9BHDPYrrK-qCczIY8</td>\n",
       "      <td>Evgeny Murashkin</td>\n",
       "      <td>2013-11-08T17:34:21</td>\n",
       "      <td>just for test I have to say murdev.com</td>\n",
       "      <td>1</td>\n",
       "    </tr>\n",
       "    <tr>\n",
       "      <th>3</th>\n",
       "      <td>z13jhp0bxqncu512g22wvzkasxmvvzjaz04</td>\n",
       "      <td>ElNino Melendez</td>\n",
       "      <td>2013-11-09T08:28:43</td>\n",
       "      <td>me shaking my sexy ass on my channel enjoy ^_^ ﻿</td>\n",
       "      <td>1</td>\n",
       "    </tr>\n",
       "    <tr>\n",
       "      <th>4</th>\n",
       "      <td>z13fwbwp1oujthgqj04chlngpvzmtt3r3dw</td>\n",
       "      <td>GsMega</td>\n",
       "      <td>2013-11-10T16:05:38</td>\n",
       "      <td>watch?v=vtaRGgvGtWQ   Check this out .﻿</td>\n",
       "      <td>1</td>\n",
       "    </tr>\n",
       "  </tbody>\n",
       "</table>\n",
       "</div>"
      ],
      "text/plain": [
       "                                    COMMENT_ID            AUTHOR  \\\n",
       "0  LZQPQhLyRh80UYxNuaDWhIGQYNQ96IuCg-AYWqNPjpU         Julius NM   \n",
       "1  LZQPQhLyRh_C2cTtd9MvFRJedxydaVW-2sNg5Diuo4A       adam riyati   \n",
       "2  LZQPQhLyRh9MSZYnf8djyk0gEF9BHDPYrrK-qCczIY8  Evgeny Murashkin   \n",
       "3          z13jhp0bxqncu512g22wvzkasxmvvzjaz04   ElNino Melendez   \n",
       "4          z13fwbwp1oujthgqj04chlngpvzmtt3r3dw            GsMega   \n",
       "\n",
       "                  DATE                                            CONTENT  \\\n",
       "0  2013-11-07T06:20:48  Huh, anyway check out this you[tube] channel: ...   \n",
       "1  2013-11-07T12:37:15  Hey guys check out my new channel and our firs...   \n",
       "2  2013-11-08T17:34:21             just for test I have to say murdev.com   \n",
       "3  2013-11-09T08:28:43   me shaking my sexy ass on my channel enjoy ^_^ ﻿   \n",
       "4  2013-11-10T16:05:38            watch?v=vtaRGgvGtWQ   Check this out .﻿   \n",
       "\n",
       "   CLASS  \n",
       "0      1  \n",
       "1      1  \n",
       "2      1  \n",
       "3      1  \n",
       "4      1  "
      ]
     },
     "execution_count": 2,
     "metadata": {},
     "output_type": "execute_result"
    }
   ],
   "source": [
    "yt01 = pd.read_csv('Dataset/Youtube01-Psy.csv')\n",
    "yt01.head()"
   ]
  },
  {
   "cell_type": "markdown",
   "id": "b03c26d0",
   "metadata": {},
   "source": [
    "This data set has 5 columns out of which 'CONTENT' contains the comments, 'CLASS' contains the label to be classified. 'COMMENT_ID', 'AUTHOR', and 'DATE' are not very usefull for spam filtering"
   ]
  },
  {
   "cell_type": "code",
   "execution_count": 3,
   "id": "e45e49ae",
   "metadata": {},
   "outputs": [
    {
     "name": "stdout",
     "output_type": "stream",
     "text": [
      "<class 'pandas.core.frame.DataFrame'>\n",
      "RangeIndex: 350 entries, 0 to 349\n",
      "Data columns (total 5 columns):\n",
      " #   Column      Non-Null Count  Dtype \n",
      "---  ------      --------------  ----- \n",
      " 0   COMMENT_ID  350 non-null    object\n",
      " 1   AUTHOR      350 non-null    object\n",
      " 2   DATE        350 non-null    object\n",
      " 3   CONTENT     350 non-null    object\n",
      " 4   CLASS       350 non-null    int64 \n",
      "dtypes: int64(1), object(4)\n",
      "memory usage: 13.8+ KB\n"
     ]
    }
   ],
   "source": [
    "yt01.info()"
   ]
  },
  {
   "cell_type": "markdown",
   "id": "e8f70e94",
   "metadata": {},
   "source": [
    "Extracting rest of the files and displaying only first 2 rows:"
   ]
  },
  {
   "cell_type": "code",
   "execution_count": 4,
   "id": "2399810d",
   "metadata": {},
   "outputs": [
    {
     "data": {
      "text/html": [
       "<div>\n",
       "<style scoped>\n",
       "    .dataframe tbody tr th:only-of-type {\n",
       "        vertical-align: middle;\n",
       "    }\n",
       "\n",
       "    .dataframe tbody tr th {\n",
       "        vertical-align: top;\n",
       "    }\n",
       "\n",
       "    .dataframe thead th {\n",
       "        text-align: right;\n",
       "    }\n",
       "</style>\n",
       "<table border=\"1\" class=\"dataframe\">\n",
       "  <thead>\n",
       "    <tr style=\"text-align: right;\">\n",
       "      <th></th>\n",
       "      <th>COMMENT_ID</th>\n",
       "      <th>AUTHOR</th>\n",
       "      <th>DATE</th>\n",
       "      <th>CONTENT</th>\n",
       "      <th>CLASS</th>\n",
       "    </tr>\n",
       "  </thead>\n",
       "  <tbody>\n",
       "    <tr>\n",
       "      <th>0</th>\n",
       "      <td>z12pgdhovmrktzm3i23es5d5junftft3f</td>\n",
       "      <td>lekanaVEVO1</td>\n",
       "      <td>2014-07-22T15:27:50</td>\n",
       "      <td>i love this so much. AND also I Generate Free ...</td>\n",
       "      <td>1</td>\n",
       "    </tr>\n",
       "    <tr>\n",
       "      <th>1</th>\n",
       "      <td>z13yx345uxepetggz04ci5rjcxeohzlrtf4</td>\n",
       "      <td>Pyunghee</td>\n",
       "      <td>2014-07-27T01:57:16</td>\n",
       "      <td>http://www.billboard.com/articles/columns/pop-...</td>\n",
       "      <td>1</td>\n",
       "    </tr>\n",
       "  </tbody>\n",
       "</table>\n",
       "</div>"
      ],
      "text/plain": [
       "                            COMMENT_ID       AUTHOR                 DATE  \\\n",
       "0    z12pgdhovmrktzm3i23es5d5junftft3f  lekanaVEVO1  2014-07-22T15:27:50   \n",
       "1  z13yx345uxepetggz04ci5rjcxeohzlrtf4     Pyunghee  2014-07-27T01:57:16   \n",
       "\n",
       "                                             CONTENT  CLASS  \n",
       "0  i love this so much. AND also I Generate Free ...      1  \n",
       "1  http://www.billboard.com/articles/columns/pop-...      1  "
      ]
     },
     "execution_count": 4,
     "metadata": {},
     "output_type": "execute_result"
    }
   ],
   "source": [
    "yt02 = pd.read_csv('Dataset/Youtube02-KatyPerry.csv')\n",
    "yt03 = pd.read_csv('Dataset/Youtube03-LMFAO.csv')\n",
    "yt04 = pd.read_csv('Dataset/Youtube04-Eminem.csv')\n",
    "yt05 = pd.read_csv('Dataset/Youtube05-Shakira.csv')\n",
    "\n",
    "yt02.head(2)"
   ]
  },
  {
   "cell_type": "code",
   "execution_count": 5,
   "id": "6bd203da",
   "metadata": {},
   "outputs": [
    {
     "data": {
      "text/html": [
       "<div>\n",
       "<style scoped>\n",
       "    .dataframe tbody tr th:only-of-type {\n",
       "        vertical-align: middle;\n",
       "    }\n",
       "\n",
       "    .dataframe tbody tr th {\n",
       "        vertical-align: top;\n",
       "    }\n",
       "\n",
       "    .dataframe thead th {\n",
       "        text-align: right;\n",
       "    }\n",
       "</style>\n",
       "<table border=\"1\" class=\"dataframe\">\n",
       "  <thead>\n",
       "    <tr style=\"text-align: right;\">\n",
       "      <th></th>\n",
       "      <th>COMMENT_ID</th>\n",
       "      <th>AUTHOR</th>\n",
       "      <th>DATE</th>\n",
       "      <th>CONTENT</th>\n",
       "      <th>CLASS</th>\n",
       "    </tr>\n",
       "  </thead>\n",
       "  <tbody>\n",
       "    <tr>\n",
       "      <th>0</th>\n",
       "      <td>z13uwn2heqndtr5g304ccv5j5kqqzxjadmc0k</td>\n",
       "      <td>Corey Wilson</td>\n",
       "      <td>2015-05-28T21:39:52.376000</td>\n",
       "      <td>&lt;a href=\"http://www.youtube.com/watch?v=KQ6zr6...</td>\n",
       "      <td>0</td>\n",
       "    </tr>\n",
       "    <tr>\n",
       "      <th>1</th>\n",
       "      <td>z124jvczaz3dxhnbc04cffk43oiugj25yzo0k</td>\n",
       "      <td>Epic Gaming</td>\n",
       "      <td>2015-05-28T20:07:20.610000</td>\n",
       "      <td>wierd but funny﻿</td>\n",
       "      <td>0</td>\n",
       "    </tr>\n",
       "  </tbody>\n",
       "</table>\n",
       "</div>"
      ],
      "text/plain": [
       "                              COMMENT_ID        AUTHOR  \\\n",
       "0  z13uwn2heqndtr5g304ccv5j5kqqzxjadmc0k  Corey Wilson   \n",
       "1  z124jvczaz3dxhnbc04cffk43oiugj25yzo0k   Epic Gaming   \n",
       "\n",
       "                         DATE  \\\n",
       "0  2015-05-28T21:39:52.376000   \n",
       "1  2015-05-28T20:07:20.610000   \n",
       "\n",
       "                                             CONTENT  CLASS  \n",
       "0  <a href=\"http://www.youtube.com/watch?v=KQ6zr6...      0  \n",
       "1                                   wierd but funny﻿      0  "
      ]
     },
     "execution_count": 5,
     "metadata": {},
     "output_type": "execute_result"
    }
   ],
   "source": [
    "yt03.head(2)"
   ]
  },
  {
   "cell_type": "code",
   "execution_count": 6,
   "id": "4a9b55a5",
   "metadata": {},
   "outputs": [
    {
     "data": {
      "text/html": [
       "<div>\n",
       "<style scoped>\n",
       "    .dataframe tbody tr th:only-of-type {\n",
       "        vertical-align: middle;\n",
       "    }\n",
       "\n",
       "    .dataframe tbody tr th {\n",
       "        vertical-align: top;\n",
       "    }\n",
       "\n",
       "    .dataframe thead th {\n",
       "        text-align: right;\n",
       "    }\n",
       "</style>\n",
       "<table border=\"1\" class=\"dataframe\">\n",
       "  <thead>\n",
       "    <tr style=\"text-align: right;\">\n",
       "      <th></th>\n",
       "      <th>COMMENT_ID</th>\n",
       "      <th>AUTHOR</th>\n",
       "      <th>DATE</th>\n",
       "      <th>CONTENT</th>\n",
       "      <th>CLASS</th>\n",
       "    </tr>\n",
       "  </thead>\n",
       "  <tbody>\n",
       "    <tr>\n",
       "      <th>0</th>\n",
       "      <td>z12rwfnyyrbsefonb232i5ehdxzkjzjs2</td>\n",
       "      <td>Lisa Wellas</td>\n",
       "      <td>NaN</td>\n",
       "      <td>+447935454150 lovely girl talk to me xxx﻿</td>\n",
       "      <td>1</td>\n",
       "    </tr>\n",
       "    <tr>\n",
       "      <th>1</th>\n",
       "      <td>z130wpnwwnyuetxcn23xf5k5ynmkdpjrj04</td>\n",
       "      <td>jason graham</td>\n",
       "      <td>2015-05-29T02:26:10.652000</td>\n",
       "      <td>I always end up coming back to this song&lt;br /&gt;﻿</td>\n",
       "      <td>0</td>\n",
       "    </tr>\n",
       "  </tbody>\n",
       "</table>\n",
       "</div>"
      ],
      "text/plain": [
       "                            COMMENT_ID        AUTHOR  \\\n",
       "0    z12rwfnyyrbsefonb232i5ehdxzkjzjs2   Lisa Wellas   \n",
       "1  z130wpnwwnyuetxcn23xf5k5ynmkdpjrj04  jason graham   \n",
       "\n",
       "                         DATE  \\\n",
       "0                         NaN   \n",
       "1  2015-05-29T02:26:10.652000   \n",
       "\n",
       "                                           CONTENT  CLASS  \n",
       "0        +447935454150 lovely girl talk to me xxx﻿      1  \n",
       "1  I always end up coming back to this song<br />﻿      0  "
      ]
     },
     "execution_count": 6,
     "metadata": {},
     "output_type": "execute_result"
    }
   ],
   "source": [
    "yt04.head(2)"
   ]
  },
  {
   "cell_type": "code",
   "execution_count": 7,
   "id": "28bca701",
   "metadata": {},
   "outputs": [
    {
     "data": {
      "text/html": [
       "<div>\n",
       "<style scoped>\n",
       "    .dataframe tbody tr th:only-of-type {\n",
       "        vertical-align: middle;\n",
       "    }\n",
       "\n",
       "    .dataframe tbody tr th {\n",
       "        vertical-align: top;\n",
       "    }\n",
       "\n",
       "    .dataframe thead th {\n",
       "        text-align: right;\n",
       "    }\n",
       "</style>\n",
       "<table border=\"1\" class=\"dataframe\">\n",
       "  <thead>\n",
       "    <tr style=\"text-align: right;\">\n",
       "      <th></th>\n",
       "      <th>COMMENT_ID</th>\n",
       "      <th>AUTHOR</th>\n",
       "      <th>DATE</th>\n",
       "      <th>CONTENT</th>\n",
       "      <th>CLASS</th>\n",
       "    </tr>\n",
       "  </thead>\n",
       "  <tbody>\n",
       "    <tr>\n",
       "      <th>0</th>\n",
       "      <td>z13lgffb5w3ddx1ul22qy1wxspy5cpkz504</td>\n",
       "      <td>dharma pal</td>\n",
       "      <td>2015-05-29T02:30:18.971000</td>\n",
       "      <td>Nice song﻿</td>\n",
       "      <td>0</td>\n",
       "    </tr>\n",
       "    <tr>\n",
       "      <th>1</th>\n",
       "      <td>z123dbgb0mqjfxbtz22ucjc5jvzcv3ykj</td>\n",
       "      <td>Tiza Arellano</td>\n",
       "      <td>2015-05-29T00:14:48.748000</td>\n",
       "      <td>I love song ﻿</td>\n",
       "      <td>0</td>\n",
       "    </tr>\n",
       "  </tbody>\n",
       "</table>\n",
       "</div>"
      ],
      "text/plain": [
       "                            COMMENT_ID         AUTHOR  \\\n",
       "0  z13lgffb5w3ddx1ul22qy1wxspy5cpkz504     dharma pal   \n",
       "1    z123dbgb0mqjfxbtz22ucjc5jvzcv3ykj  Tiza Arellano   \n",
       "\n",
       "                         DATE        CONTENT  CLASS  \n",
       "0  2015-05-29T02:30:18.971000     Nice song﻿      0  \n",
       "1  2015-05-29T00:14:48.748000  I love song ﻿      0  "
      ]
     },
     "execution_count": 7,
     "metadata": {},
     "output_type": "execute_result"
    }
   ],
   "source": [
    "yt05.head(2)"
   ]
  },
  {
   "cell_type": "markdown",
   "id": "411cdb8e",
   "metadata": {},
   "source": [
    "Creating a column containing artist's name in each data frame before concantating them."
   ]
  },
  {
   "cell_type": "code",
   "execution_count": 8,
   "id": "f70b0c20",
   "metadata": {},
   "outputs": [
    {
     "data": {
      "text/html": [
       "<div>\n",
       "<style scoped>\n",
       "    .dataframe tbody tr th:only-of-type {\n",
       "        vertical-align: middle;\n",
       "    }\n",
       "\n",
       "    .dataframe tbody tr th {\n",
       "        vertical-align: top;\n",
       "    }\n",
       "\n",
       "    .dataframe thead th {\n",
       "        text-align: right;\n",
       "    }\n",
       "</style>\n",
       "<table border=\"1\" class=\"dataframe\">\n",
       "  <thead>\n",
       "    <tr style=\"text-align: right;\">\n",
       "      <th></th>\n",
       "      <th>COMMENT_ID</th>\n",
       "      <th>AUTHOR</th>\n",
       "      <th>DATE</th>\n",
       "      <th>CONTENT</th>\n",
       "      <th>CLASS</th>\n",
       "      <th>Artist</th>\n",
       "    </tr>\n",
       "  </thead>\n",
       "  <tbody>\n",
       "    <tr>\n",
       "      <th>0</th>\n",
       "      <td>LZQPQhLyRh80UYxNuaDWhIGQYNQ96IuCg-AYWqNPjpU</td>\n",
       "      <td>Julius NM</td>\n",
       "      <td>2013-11-07T06:20:48</td>\n",
       "      <td>Huh, anyway check out this you[tube] channel: ...</td>\n",
       "      <td>1</td>\n",
       "      <td>Psy</td>\n",
       "    </tr>\n",
       "    <tr>\n",
       "      <th>1</th>\n",
       "      <td>LZQPQhLyRh_C2cTtd9MvFRJedxydaVW-2sNg5Diuo4A</td>\n",
       "      <td>adam riyati</td>\n",
       "      <td>2013-11-07T12:37:15</td>\n",
       "      <td>Hey guys check out my new channel and our firs...</td>\n",
       "      <td>1</td>\n",
       "      <td>Psy</td>\n",
       "    </tr>\n",
       "    <tr>\n",
       "      <th>2</th>\n",
       "      <td>LZQPQhLyRh9MSZYnf8djyk0gEF9BHDPYrrK-qCczIY8</td>\n",
       "      <td>Evgeny Murashkin</td>\n",
       "      <td>2013-11-08T17:34:21</td>\n",
       "      <td>just for test I have to say murdev.com</td>\n",
       "      <td>1</td>\n",
       "      <td>Psy</td>\n",
       "    </tr>\n",
       "    <tr>\n",
       "      <th>3</th>\n",
       "      <td>z13jhp0bxqncu512g22wvzkasxmvvzjaz04</td>\n",
       "      <td>ElNino Melendez</td>\n",
       "      <td>2013-11-09T08:28:43</td>\n",
       "      <td>me shaking my sexy ass on my channel enjoy ^_^ ﻿</td>\n",
       "      <td>1</td>\n",
       "      <td>Psy</td>\n",
       "    </tr>\n",
       "    <tr>\n",
       "      <th>4</th>\n",
       "      <td>z13fwbwp1oujthgqj04chlngpvzmtt3r3dw</td>\n",
       "      <td>GsMega</td>\n",
       "      <td>2013-11-10T16:05:38</td>\n",
       "      <td>watch?v=vtaRGgvGtWQ   Check this out .﻿</td>\n",
       "      <td>1</td>\n",
       "      <td>Psy</td>\n",
       "    </tr>\n",
       "  </tbody>\n",
       "</table>\n",
       "</div>"
      ],
      "text/plain": [
       "                                    COMMENT_ID            AUTHOR  \\\n",
       "0  LZQPQhLyRh80UYxNuaDWhIGQYNQ96IuCg-AYWqNPjpU         Julius NM   \n",
       "1  LZQPQhLyRh_C2cTtd9MvFRJedxydaVW-2sNg5Diuo4A       adam riyati   \n",
       "2  LZQPQhLyRh9MSZYnf8djyk0gEF9BHDPYrrK-qCczIY8  Evgeny Murashkin   \n",
       "3          z13jhp0bxqncu512g22wvzkasxmvvzjaz04   ElNino Melendez   \n",
       "4          z13fwbwp1oujthgqj04chlngpvzmtt3r3dw            GsMega   \n",
       "\n",
       "                  DATE                                            CONTENT  \\\n",
       "0  2013-11-07T06:20:48  Huh, anyway check out this you[tube] channel: ...   \n",
       "1  2013-11-07T12:37:15  Hey guys check out my new channel and our firs...   \n",
       "2  2013-11-08T17:34:21             just for test I have to say murdev.com   \n",
       "3  2013-11-09T08:28:43   me shaking my sexy ass on my channel enjoy ^_^ ﻿   \n",
       "4  2013-11-10T16:05:38            watch?v=vtaRGgvGtWQ   Check this out .﻿   \n",
       "\n",
       "   CLASS Artist  \n",
       "0      1    Psy  \n",
       "1      1    Psy  \n",
       "2      1    Psy  \n",
       "3      1    Psy  \n",
       "4      1    Psy  "
      ]
     },
     "execution_count": 8,
     "metadata": {},
     "output_type": "execute_result"
    }
   ],
   "source": [
    "yt01['Artist'] = 'Psy'\n",
    "yt02['Artist'] = 'KatyPerry'\n",
    "yt03['Artist'] = 'LMFAO'\n",
    "yt04['Artist'] = 'Eminem'\n",
    "yt05['Artist'] = 'Shakira'\n",
    "yt01.head()"
   ]
  },
  {
   "cell_type": "code",
   "execution_count": 9,
   "id": "859154fa",
   "metadata": {},
   "outputs": [
    {
     "data": {
      "text/html": [
       "<div>\n",
       "<style scoped>\n",
       "    .dataframe tbody tr th:only-of-type {\n",
       "        vertical-align: middle;\n",
       "    }\n",
       "\n",
       "    .dataframe tbody tr th {\n",
       "        vertical-align: top;\n",
       "    }\n",
       "\n",
       "    .dataframe thead th {\n",
       "        text-align: right;\n",
       "    }\n",
       "</style>\n",
       "<table border=\"1\" class=\"dataframe\">\n",
       "  <thead>\n",
       "    <tr style=\"text-align: right;\">\n",
       "      <th></th>\n",
       "      <th>COMMENT_ID</th>\n",
       "      <th>AUTHOR</th>\n",
       "      <th>DATE</th>\n",
       "      <th>CONTENT</th>\n",
       "      <th>CLASS</th>\n",
       "      <th>Artist</th>\n",
       "    </tr>\n",
       "  </thead>\n",
       "  <tbody>\n",
       "    <tr>\n",
       "      <th>0</th>\n",
       "      <td>LZQPQhLyRh80UYxNuaDWhIGQYNQ96IuCg-AYWqNPjpU</td>\n",
       "      <td>Julius NM</td>\n",
       "      <td>2013-11-07T06:20:48</td>\n",
       "      <td>Huh, anyway check out this you[tube] channel: ...</td>\n",
       "      <td>1</td>\n",
       "      <td>Psy</td>\n",
       "    </tr>\n",
       "    <tr>\n",
       "      <th>1</th>\n",
       "      <td>LZQPQhLyRh_C2cTtd9MvFRJedxydaVW-2sNg5Diuo4A</td>\n",
       "      <td>adam riyati</td>\n",
       "      <td>2013-11-07T12:37:15</td>\n",
       "      <td>Hey guys check out my new channel and our firs...</td>\n",
       "      <td>1</td>\n",
       "      <td>Psy</td>\n",
       "    </tr>\n",
       "    <tr>\n",
       "      <th>2</th>\n",
       "      <td>LZQPQhLyRh9MSZYnf8djyk0gEF9BHDPYrrK-qCczIY8</td>\n",
       "      <td>Evgeny Murashkin</td>\n",
       "      <td>2013-11-08T17:34:21</td>\n",
       "      <td>just for test I have to say murdev.com</td>\n",
       "      <td>1</td>\n",
       "      <td>Psy</td>\n",
       "    </tr>\n",
       "    <tr>\n",
       "      <th>3</th>\n",
       "      <td>z13jhp0bxqncu512g22wvzkasxmvvzjaz04</td>\n",
       "      <td>ElNino Melendez</td>\n",
       "      <td>2013-11-09T08:28:43</td>\n",
       "      <td>me shaking my sexy ass on my channel enjoy ^_^ ﻿</td>\n",
       "      <td>1</td>\n",
       "      <td>Psy</td>\n",
       "    </tr>\n",
       "    <tr>\n",
       "      <th>4</th>\n",
       "      <td>z13fwbwp1oujthgqj04chlngpvzmtt3r3dw</td>\n",
       "      <td>GsMega</td>\n",
       "      <td>2013-11-10T16:05:38</td>\n",
       "      <td>watch?v=vtaRGgvGtWQ   Check this out .﻿</td>\n",
       "      <td>1</td>\n",
       "      <td>Psy</td>\n",
       "    </tr>\n",
       "    <tr>\n",
       "      <th>5</th>\n",
       "      <td>LZQPQhLyRh9-wNRtlZDM90f1k0BrdVdJyN_YsaSwfxc</td>\n",
       "      <td>Jason Haddad</td>\n",
       "      <td>2013-11-26T02:55:11</td>\n",
       "      <td>Hey, check out my new website!! This site is a...</td>\n",
       "      <td>1</td>\n",
       "      <td>Psy</td>\n",
       "    </tr>\n",
       "    <tr>\n",
       "      <th>6</th>\n",
       "      <td>z13lfzdo5vmdi1cm123te5uz2mqig1brz04</td>\n",
       "      <td>ferleck ferles</td>\n",
       "      <td>2013-11-27T21:39:24</td>\n",
       "      <td>Subscribe to my channel ﻿</td>\n",
       "      <td>1</td>\n",
       "      <td>Psy</td>\n",
       "    </tr>\n",
       "    <tr>\n",
       "      <th>7</th>\n",
       "      <td>z122wfnzgt30fhubn04cdn3xfx2mxzngsl40k</td>\n",
       "      <td>Bob Kanowski</td>\n",
       "      <td>2013-11-28T12:33:27</td>\n",
       "      <td>i turned it on mute as soon is i came on i jus...</td>\n",
       "      <td>0</td>\n",
       "      <td>Psy</td>\n",
       "    </tr>\n",
       "    <tr>\n",
       "      <th>8</th>\n",
       "      <td>z13ttt1jcraqexk2o234ghbgzxymz1zzi04</td>\n",
       "      <td>Cony</td>\n",
       "      <td>2013-11-28T16:01:47</td>\n",
       "      <td>You should check my channel for Funny VIDEOS!!﻿</td>\n",
       "      <td>1</td>\n",
       "      <td>Psy</td>\n",
       "    </tr>\n",
       "  </tbody>\n",
       "</table>\n",
       "</div>"
      ],
      "text/plain": [
       "                                    COMMENT_ID            AUTHOR  \\\n",
       "0  LZQPQhLyRh80UYxNuaDWhIGQYNQ96IuCg-AYWqNPjpU         Julius NM   \n",
       "1  LZQPQhLyRh_C2cTtd9MvFRJedxydaVW-2sNg5Diuo4A       adam riyati   \n",
       "2  LZQPQhLyRh9MSZYnf8djyk0gEF9BHDPYrrK-qCczIY8  Evgeny Murashkin   \n",
       "3          z13jhp0bxqncu512g22wvzkasxmvvzjaz04   ElNino Melendez   \n",
       "4          z13fwbwp1oujthgqj04chlngpvzmtt3r3dw            GsMega   \n",
       "5  LZQPQhLyRh9-wNRtlZDM90f1k0BrdVdJyN_YsaSwfxc      Jason Haddad   \n",
       "6          z13lfzdo5vmdi1cm123te5uz2mqig1brz04    ferleck ferles   \n",
       "7        z122wfnzgt30fhubn04cdn3xfx2mxzngsl40k      Bob Kanowski   \n",
       "8          z13ttt1jcraqexk2o234ghbgzxymz1zzi04              Cony   \n",
       "\n",
       "                  DATE                                            CONTENT  \\\n",
       "0  2013-11-07T06:20:48  Huh, anyway check out this you[tube] channel: ...   \n",
       "1  2013-11-07T12:37:15  Hey guys check out my new channel and our firs...   \n",
       "2  2013-11-08T17:34:21             just for test I have to say murdev.com   \n",
       "3  2013-11-09T08:28:43   me shaking my sexy ass on my channel enjoy ^_^ ﻿   \n",
       "4  2013-11-10T16:05:38            watch?v=vtaRGgvGtWQ   Check this out .﻿   \n",
       "5  2013-11-26T02:55:11  Hey, check out my new website!! This site is a...   \n",
       "6  2013-11-27T21:39:24                          Subscribe to my channel ﻿   \n",
       "7  2013-11-28T12:33:27  i turned it on mute as soon is i came on i jus...   \n",
       "8  2013-11-28T16:01:47    You should check my channel for Funny VIDEOS!!﻿   \n",
       "\n",
       "   CLASS Artist  \n",
       "0      1    Psy  \n",
       "1      1    Psy  \n",
       "2      1    Psy  \n",
       "3      1    Psy  \n",
       "4      1    Psy  \n",
       "5      1    Psy  \n",
       "6      1    Psy  \n",
       "7      0    Psy  \n",
       "8      1    Psy  "
      ]
     },
     "execution_count": 9,
     "metadata": {},
     "output_type": "execute_result"
    }
   ],
   "source": [
    "yt = pd.concat([yt01,yt02,yt03,yt04,yt05])\n",
    "yt.head(9)"
   ]
  },
  {
   "cell_type": "markdown",
   "id": "1bb07df6",
   "metadata": {},
   "source": [
    "Dropping 'COMMENT_ID', 'AUTHOR', and 'DATE' from dataframe."
   ]
  },
  {
   "cell_type": "code",
   "execution_count": 10,
   "id": "c2106bd2",
   "metadata": {},
   "outputs": [],
   "source": [
    "yt.drop('COMMENT_ID', axis = 1, inplace = True)\n",
    "yt.drop('AUTHOR', axis = 1, inplace = True)\n",
    "yt.drop('DATE', axis = 1, inplace = True)"
   ]
  },
  {
   "cell_type": "markdown",
   "id": "dd5c633c",
   "metadata": {},
   "source": [
    "There is a small class imbalance for artists LMFAO, Eminem, and Shakira. This can potentially be used for classification"
   ]
  },
  {
   "cell_type": "code",
   "execution_count": 11,
   "id": "21521d01",
   "metadata": {},
   "outputs": [
    {
     "data": {
      "image/png": "[encoded data removed]",
      "text/plain": [
       "<Figure size 432x288 with 1 Axes>"
      ]
     },
     "metadata": {
      "needs_background": "light"
     },
     "output_type": "display_data"
    }
   ],
   "source": [
    "sns.countplot(x = 'Artist', hue = 'CLASS', data = yt)\n",
    "plt.title('CLASS Distribution by Artists')\n",
    "plt.show()"
   ]
  },
  {
   "cell_type": "markdown",
   "id": "9534ac07",
   "metadata": {},
   "source": [
    "Creating a column with length of comments"
   ]
  },
  {
   "cell_type": "code",
   "execution_count": 12,
   "id": "c5a62bbc",
   "metadata": {},
   "outputs": [
    {
     "data": {
      "text/html": [
       "<div>\n",
       "<style scoped>\n",
       "    .dataframe tbody tr th:only-of-type {\n",
       "        vertical-align: middle;\n",
       "    }\n",
       "\n",
       "    .dataframe tbody tr th {\n",
       "        vertical-align: top;\n",
       "    }\n",
       "\n",
       "    .dataframe thead th {\n",
       "        text-align: right;\n",
       "    }\n",
       "</style>\n",
       "<table border=\"1\" class=\"dataframe\">\n",
       "  <thead>\n",
       "    <tr style=\"text-align: right;\">\n",
       "      <th></th>\n",
       "      <th>CONTENT</th>\n",
       "      <th>CLASS</th>\n",
       "      <th>Artist</th>\n",
       "      <th>Length</th>\n",
       "    </tr>\n",
       "  </thead>\n",
       "  <tbody>\n",
       "    <tr>\n",
       "      <th>0</th>\n",
       "      <td>Huh, anyway check out this you[tube] channel: ...</td>\n",
       "      <td>1</td>\n",
       "      <td>Psy</td>\n",
       "      <td>56</td>\n",
       "    </tr>\n",
       "    <tr>\n",
       "      <th>1</th>\n",
       "      <td>Hey guys check out my new channel and our firs...</td>\n",
       "      <td>1</td>\n",
       "      <td>Psy</td>\n",
       "      <td>166</td>\n",
       "    </tr>\n",
       "    <tr>\n",
       "      <th>2</th>\n",
       "      <td>just for test I have to say murdev.com</td>\n",
       "      <td>1</td>\n",
       "      <td>Psy</td>\n",
       "      <td>38</td>\n",
       "    </tr>\n",
       "    <tr>\n",
       "      <th>3</th>\n",
       "      <td>me shaking my sexy ass on my channel enjoy ^_^ ﻿</td>\n",
       "      <td>1</td>\n",
       "      <td>Psy</td>\n",
       "      <td>48</td>\n",
       "    </tr>\n",
       "    <tr>\n",
       "      <th>4</th>\n",
       "      <td>watch?v=vtaRGgvGtWQ   Check this out .﻿</td>\n",
       "      <td>1</td>\n",
       "      <td>Psy</td>\n",
       "      <td>39</td>\n",
       "    </tr>\n",
       "  </tbody>\n",
       "</table>\n",
       "</div>"
      ],
      "text/plain": [
       "                                             CONTENT  CLASS Artist  Length\n",
       "0  Huh, anyway check out this you[tube] channel: ...      1    Psy      56\n",
       "1  Hey guys check out my new channel and our firs...      1    Psy     166\n",
       "2             just for test I have to say murdev.com      1    Psy      38\n",
       "3   me shaking my sexy ass on my channel enjoy ^_^ ﻿      1    Psy      48\n",
       "4            watch?v=vtaRGgvGtWQ   Check this out .﻿      1    Psy      39"
      ]
     },
     "execution_count": 12,
     "metadata": {},
     "output_type": "execute_result"
    }
   ],
   "source": [
    "yt['Length'] = yt['CONTENT'].apply(len)\n",
    "yt.head()"
   ]
  },
  {
   "cell_type": "markdown",
   "id": "10928ae6",
   "metadata": {},
   "source": [
    "Spams (CLASS = 0) have more counts compared to hams for lengths nearly above 200"
   ]
  },
  {
   "cell_type": "code",
   "execution_count": 13,
   "id": "e5eeac15",
   "metadata": {},
   "outputs": [
    {
     "data": {
      "image/png": "[encoded data removed]",
      "text/plain": [
       "<Figure size 432x288 with 1 Axes>"
      ]
     },
     "metadata": {
      "needs_background": "light"
     },
     "output_type": "display_data"
    }
   ],
   "source": [
    "sns.histplot(x = 'Length', data = yt, hue = 'CLASS')\n",
    "plt.title('Length of comments')\n",
    "plt.show()"
   ]
  },
  {
   "cell_type": "markdown",
   "id": "934eea3d",
   "metadata": {},
   "source": [
    "## Text Processing\n",
    "Processing the 'CONTENT' to remove punctuations and stopwords. Analyzing words common in url's and their prevelance in spam comments"
   ]
  },
  {
   "cell_type": "markdown",
   "id": "c8246435",
   "metadata": {},
   "source": [
    "Importing libraries and downloading stopwords"
   ]
  },
  {
   "cell_type": "code",
   "execution_count": 14,
   "id": "6f00299f",
   "metadata": {},
   "outputs": [],
   "source": [
    "import nltk\n",
    "import string"
   ]
  },
  {
   "cell_type": "markdown",
   "id": "3c9c95b8",
   "metadata": {},
   "source": [
    "in NLTK Downloader, enter d to download or l to see list of identifiers in nltk. next, enter 'stopwords', and then enter 'q' to quit."
   ]
  },
  {
   "cell_type": "code",
   "execution_count": 15,
   "id": "041c38ee",
   "metadata": {},
   "outputs": [
    {
     "name": "stdout",
     "output_type": "stream",
     "text": [
      "NLTK Downloader\n",
      "---------------------------------------------------------------------------\n",
      "    d) Download   l) List    u) Update   c) Config   h) Help   q) Quit\n",
      "---------------------------------------------------------------------------\n",
      "Downloader> d\n",
      "\n",
      "Download which package (l=list; x=cancel)?\n",
      "  Identifier> stopwords\n"
     ]
    },
    {
     "name": "stderr",
     "output_type": "stream",
     "text": [
      "    Downloading package stopwords to\n",
      "        C:\\Users\\shrey\\AppData\\Roaming\\nltk_data...\n",
      "      Package stopwords is already up-to-date!\n"
     ]
    },
    {
     "name": "stdout",
     "output_type": "stream",
     "text": [
      "\n",
      "---------------------------------------------------------------------------\n",
      "    d) Download   l) List    u) Update   c) Config   h) Help   q) Quit\n",
      "---------------------------------------------------------------------------\n",
      "Downloader> q\n"
     ]
    }
   ],
   "source": [
    "nltk.download_shell()"
   ]
  },
  {
   "cell_type": "code",
   "execution_count": 16,
   "id": "9e310c7b",
   "metadata": {},
   "outputs": [],
   "source": [
    "from nltk.corpus import stopwords"
   ]
  },
  {
   "cell_type": "markdown",
   "id": "4acfdcc2",
   "metadata": {},
   "source": [
    "Lets get the first comment for Katy Perry in the dataframe and remove puncuations from it. Note that all characters are converted to lower cases."
   ]
  },
  {
   "cell_type": "code",
   "execution_count": 17,
   "id": "51b1504b",
   "metadata": {},
   "outputs": [
    {
     "data": {
      "text/plain": [
       "'i love this so much. AND also I Generate Free Leads on Auto Pilot &amp; You Can  Too! http://www.MyLeaderGate.com/moretraffic\\ufeff'"
      ]
     },
     "execution_count": 17,
     "metadata": {},
     "output_type": "execute_result"
    }
   ],
   "source": [
    "comment = yt[yt['Artist'] == 'KatyPerry']['CONTENT'].iloc[0]\n",
    "comment"
   ]
  },
  {
   "cell_type": "markdown",
   "id": "56a0fa6d",
   "metadata": {},
   "source": [
    "This comment has no punctuations now. \n",
    "<br>The link at the end is joined together. It would be better to insert spaces where the puncuations were to get words like https, www, com, etc. This will help us as these url keywords might be more common in spams."
   ]
  },
  {
   "cell_type": "code",
   "execution_count": 18,
   "id": "b6493956",
   "metadata": {},
   "outputs": [
    {
     "data": {
      "text/plain": [
       "'i love this so much and also i generate free leads on auto pilot amp you can  too httpwwwmyleadergatecommoretraffic\\ufeff'"
      ]
     },
     "execution_count": 18,
     "metadata": {},
     "output_type": "execute_result"
    }
   ],
   "source": [
    "comm_nopunc = [char for char in comment if char not in string.punctuation]\n",
    "comm_nopunc = ''.join(comm_nopunc).lower() # joining the list of words into a string and converting to lower case\n",
    "comm_nopunc"
   ]
  },
  {
   "cell_type": "markdown",
   "id": "ce31a2d4",
   "metadata": {},
   "source": [
    "With this loop, I inserted spaces in space of punctuations. How the classifier can see which comments have key words common in urls"
   ]
  },
  {
   "cell_type": "code",
   "execution_count": 19,
   "id": "70f77003",
   "metadata": {},
   "outputs": [
    {
     "data": {
      "text/plain": [
       "'i love this so much  AND also I Generate Free Leads on Auto Pilot  amp  You Can  Too  http   www MyLeaderGate com moretraffic\\ufeff'"
      ]
     },
     "execution_count": 19,
     "metadata": {},
     "output_type": "execute_result"
    }
   ],
   "source": [
    "a_nopunc = ''\n",
    "for char in comment:\n",
    "    if char not in string.punctuation:\n",
    "        a_nopunc = a_nopunc + char        \n",
    "    else:\n",
    "        a_nopunc = a_nopunc + ' '\n",
    "a_nopunc"
   ]
  },
  {
   "cell_type": "markdown",
   "id": "5dad35c0",
   "metadata": {},
   "source": [
    "Let's see the list of stopwords in the comment with no punctuations:"
   ]
  },
  {
   "cell_type": "code",
   "execution_count": 20,
   "id": "5a3c861c",
   "metadata": {},
   "outputs": [
    {
     "data": {
      "text/plain": [
       "['i', 'this', 'so', 'on']"
      ]
     },
     "execution_count": 20,
     "metadata": {},
     "output_type": "execute_result"
    }
   ],
   "source": [
    "stopwords_in_comm = [word for word in a_nopunc.split() if word in stopwords.words('english')]\n",
    "stopwords_in_comm"
   ]
  },
  {
   "cell_type": "markdown",
   "id": "6d7fcfd4",
   "metadata": {},
   "source": [
    "Removing these stopwords and showing the cleaned comment:"
   ]
  },
  {
   "cell_type": "code",
   "execution_count": 21,
   "id": "b03ceccb",
   "metadata": {},
   "outputs": [
    {
     "name": "stdout",
     "output_type": "stream",
     "text": [
      "['love', 'much', 'also', 'generate', 'free', 'leads', 'auto', 'pilot', 'amp', 'httpwwwmyleadergatecommoretraffic\\ufeff']\n"
     ]
    }
   ],
   "source": [
    "comm_cleaned = [word for word in comm_nopunc.split() if word not in stopwords.words('english')]\n",
    "print(comm_cleaned)"
   ]
  },
  {
   "cell_type": "markdown",
   "id": "2c68e611",
   "metadata": {},
   "source": [
    "Making a function combining the above steps"
   ]
  },
  {
   "cell_type": "code",
   "execution_count": 22,
   "id": "fe3078c0",
   "metadata": {},
   "outputs": [],
   "source": [
    "def text_process(comm):\n",
    "    '''\n",
    "    Takes in a string of text, then performs the following:\n",
    "    1. Remove all punctuation\n",
    "    2. Remove all stopwords\n",
    "    3. Converts to lower case\n",
    "    4. Returns a list of the cleaned text\n",
    "    '''\n",
    "    a_nopunc = ''\n",
    "    for char in comm:\n",
    "        if char not in string.punctuation:\n",
    "            a_nopunc = a_nopunc + char\n",
    "        else:\n",
    "            a_nopunc = a_nopunc + ' '\n",
    "    \n",
    "    a_nopunc = ''.join(a_nopunc).lower()\n",
    "    \n",
    "    a_noSW = [word for word in a_nopunc.split() if word not in stopwords.words('english')]\n",
    "    return a_noSW;"
   ]
  },
  {
   "cell_type": "markdown",
   "id": "d72becfd",
   "metadata": {},
   "source": [
    "Getting another comment and applying the processing its text as an example:"
   ]
  },
  {
   "cell_type": "code",
   "execution_count": 23,
   "id": "b53470e6",
   "metadata": {},
   "outputs": [
    {
     "data": {
      "text/plain": [
       "\"Hey guys check out my new channel and our first vid THIS IS US THE  MONKEYS!!! I'm the monkey in the white shirt,please leave a like comment  and please subscribe!!!!\""
      ]
     },
     "execution_count": 23,
     "metadata": {},
     "output_type": "execute_result"
    }
   ],
   "source": [
    "yt['CONTENT'].iloc[1]"
   ]
  },
  {
   "cell_type": "code",
   "execution_count": 24,
   "id": "ebaca2b1",
   "metadata": {},
   "outputs": [
    {
     "name": "stdout",
     "output_type": "stream",
     "text": [
      "['hey', 'guys', 'check', 'new', 'channel', 'first', 'vid', 'us', 'monkeys', 'monkey', 'white', 'shirt', 'please', 'leave', 'like', 'comment', 'please', 'subscribe']\n"
     ]
    }
   ],
   "source": [
    "print(text_process(yt['CONTENT'].iloc[1]))"
   ]
  },
  {
   "cell_type": "markdown",
   "id": "4fdc5885",
   "metadata": {},
   "source": [
    "## More data exploration with processed text:\n",
    "The text_process function successfully removes punctuations and stopwords, while preserving words common in links and urls. \n",
    "<br> Lets see how prevelant these urls and some other words are in spams and hams:"
   ]
  },
  {
   "cell_type": "markdown",
   "id": "1519c950",
   "metadata": {},
   "source": [
    "Creating a function to detect common url words and other keywords like 'subscribe'. "
   ]
  },
  {
   "cell_type": "code",
   "execution_count": 25,
   "id": "a8d60a53",
   "metadata": {},
   "outputs": [],
   "source": [
    "def url_detect(mess,url):\n",
    "    ''' \n",
    "    Takes in a list of words, then performs the following:\n",
    "    1. Determine if message has a url using common url terms\n",
    "    2. Return 0 (as Flase) or 1 (as True). \n",
    "    '''\n",
    "    a_processed = text_process(mess)\n",
    "    \n",
    "    flag = 0 # flag contains information wether any words in url has been encountered\n",
    "    for word in a_processed:\n",
    "        if word in url:\n",
    "            flag = 1 # in this loop, every word is searched in the comments and flagged if it is in url\n",
    "    return flag;"
   ]
  },
  {
   "cell_type": "code",
   "execution_count": 26,
   "id": "f3e47dbf",
   "metadata": {},
   "outputs": [],
   "source": [
    "url_words = ['https', 'www', 'com','channel', 'subscribe']"
   ]
  },
  {
   "cell_type": "code",
   "execution_count": 27,
   "id": "fd10cf2b",
   "metadata": {},
   "outputs": [
    {
     "data": {
      "text/html": [
       "<div>\n",
       "<style scoped>\n",
       "    .dataframe tbody tr th:only-of-type {\n",
       "        vertical-align: middle;\n",
       "    }\n",
       "\n",
       "    .dataframe tbody tr th {\n",
       "        vertical-align: top;\n",
       "    }\n",
       "\n",
       "    .dataframe thead th {\n",
       "        text-align: right;\n",
       "    }\n",
       "</style>\n",
       "<table border=\"1\" class=\"dataframe\">\n",
       "  <thead>\n",
       "    <tr style=\"text-align: right;\">\n",
       "      <th></th>\n",
       "      <th>CONTENT</th>\n",
       "      <th>CLASS</th>\n",
       "      <th>Artist</th>\n",
       "      <th>Length</th>\n",
       "      <th>Has_URL</th>\n",
       "    </tr>\n",
       "  </thead>\n",
       "  <tbody>\n",
       "    <tr>\n",
       "      <th>0</th>\n",
       "      <td>Huh, anyway check out this you[tube] channel: ...</td>\n",
       "      <td>1</td>\n",
       "      <td>Psy</td>\n",
       "      <td>56</td>\n",
       "      <td>1</td>\n",
       "    </tr>\n",
       "    <tr>\n",
       "      <th>1</th>\n",
       "      <td>Hey guys check out my new channel and our firs...</td>\n",
       "      <td>1</td>\n",
       "      <td>Psy</td>\n",
       "      <td>166</td>\n",
       "      <td>1</td>\n",
       "    </tr>\n",
       "    <tr>\n",
       "      <th>2</th>\n",
       "      <td>just for test I have to say murdev.com</td>\n",
       "      <td>1</td>\n",
       "      <td>Psy</td>\n",
       "      <td>38</td>\n",
       "      <td>1</td>\n",
       "    </tr>\n",
       "    <tr>\n",
       "      <th>3</th>\n",
       "      <td>me shaking my sexy ass on my channel enjoy ^_^ ﻿</td>\n",
       "      <td>1</td>\n",
       "      <td>Psy</td>\n",
       "      <td>48</td>\n",
       "      <td>1</td>\n",
       "    </tr>\n",
       "    <tr>\n",
       "      <th>4</th>\n",
       "      <td>watch?v=vtaRGgvGtWQ   Check this out .﻿</td>\n",
       "      <td>1</td>\n",
       "      <td>Psy</td>\n",
       "      <td>39</td>\n",
       "      <td>0</td>\n",
       "    </tr>\n",
       "  </tbody>\n",
       "</table>\n",
       "</div>"
      ],
      "text/plain": [
       "                                             CONTENT  CLASS Artist  Length  \\\n",
       "0  Huh, anyway check out this you[tube] channel: ...      1    Psy      56   \n",
       "1  Hey guys check out my new channel and our firs...      1    Psy     166   \n",
       "2             just for test I have to say murdev.com      1    Psy      38   \n",
       "3   me shaking my sexy ass on my channel enjoy ^_^ ﻿      1    Psy      48   \n",
       "4            watch?v=vtaRGgvGtWQ   Check this out .﻿      1    Psy      39   \n",
       "\n",
       "   Has_URL  \n",
       "0        1  \n",
       "1        1  \n",
       "2        1  \n",
       "3        1  \n",
       "4        0  "
      ]
     },
     "execution_count": 27,
     "metadata": {},
     "output_type": "execute_result"
    }
   ],
   "source": [
    "yt['Has_URL'] = yt['CONTENT'].apply(url_detect, url = url_words)\n",
    "yt.head()"
   ]
  },
  {
   "cell_type": "markdown",
   "id": "be05a034",
   "metadata": {},
   "source": [
    "The words in url_words are significantly more common in spams. This suggests that comments can be classified as hams/spams by transforming comments with CountVectorizer. Words like those in url_words will help classification."
   ]
  },
  {
   "cell_type": "code",
   "execution_count": 28,
   "id": "b30fb385",
   "metadata": {},
   "outputs": [
    {
     "data": {
      "image/png": "[encoded data removed]",
      "text/plain": [
       "<Figure size 432x288 with 1 Axes>"
      ]
     },
     "metadata": {
      "needs_background": "light"
     },
     "output_type": "display_data"
    }
   ],
   "source": [
    "sns.countplot(x = 'CLASS', hue = 'Has_URL', data = yt)\n",
    "plt.title('Url words count by CLASS')\n",
    "plt.show()"
   ]
  },
  {
   "cell_type": "code",
   "execution_count": 29,
   "id": "6a4c5aa4",
   "metadata": {},
   "outputs": [
    {
     "data": {
      "image/png": "[encoded data removed]",
      "text/plain": [
       "<Figure size 432x288 with 2 Axes>"
      ]
     },
     "metadata": {
      "needs_background": "light"
     },
     "output_type": "display_data"
    }
   ],
   "source": [
    "sns.heatmap(yt.corr(), annot = True)\n",
    "plt.title('yt Data Frame columns correlation')\n",
    "plt.show()"
   ]
  },
  {
   "cell_type": "code",
   "execution_count": 30,
   "id": "e111596f",
   "metadata": {},
   "outputs": [],
   "source": [
    "x = yt['CONTENT']\n",
    "y = yt['CLASS']"
   ]
  },
  {
   "cell_type": "markdown",
   "id": "0f12510d",
   "metadata": {},
   "source": [
    "## Vectorization"
   ]
  },
  {
   "cell_type": "code",
   "execution_count": 31,
   "id": "fc1db3f5",
   "metadata": {},
   "outputs": [],
   "source": [
    "from sklearn.feature_extraction.text import CountVectorizer"
   ]
  },
  {
   "cell_type": "code",
   "execution_count": 32,
   "id": "1dbb4e6c",
   "metadata": {},
   "outputs": [
    {
     "name": "stdout",
     "output_type": "stream",
     "text": [
      "Total number of words after processing:  4735\n"
     ]
    }
   ],
   "source": [
    "CV = CountVectorizer(analyzer=text_process).fit(x)\n",
    "print('Total number of words after processing: ',len(CV.vocabulary_))"
   ]
  },
  {
   "cell_type": "code",
   "execution_count": 33,
   "id": "56670aba",
   "metadata": {
    "scrolled": true
   },
   "outputs": [
    {
     "name": "stdout",
     "output_type": "stream",
     "text": [
      "Shape of the data frame with comments:  (1956, 5)\n",
      "Shape of the CountVectorized data:  (1956, 4735)\n"
     ]
    }
   ],
   "source": [
    "CV_comments = CV.transform(x)\n",
    "print('Shape of the data frame with comments: ', yt.shape)\n",
    "print('Shape of the CountVectorized data: ',CV_comments.shape)"
   ]
  },
  {
   "cell_type": "markdown",
   "id": "8802d7c2",
   "metadata": {},
   "source": [
    "The data frame has 1956 comments. The CountVectorized data has the same number of rows, but columns are each word in the whole CV.vocabulary (total number of words after processing). the matrix has counts of each word in a given comment.\n",
    "<br><br>Since the columns are every word in the whole set of comments, and since each comment has only few of these words, most of the columns are 0. Normally, a sparse matrix is outputted where columns with 0's are dropped for a given comment.\n",
    "<br><br>\n",
    "Here, I will convert this matrix into a data frame and show the columns where the 2nd comment (index = 1) has atleast 1 count."
   ]
  },
  {
   "cell_type": "code",
   "execution_count": 34,
   "id": "8921920d",
   "metadata": {},
   "outputs": [
    {
     "data": {
      "text/html": [
       "<div>\n",
       "<style scoped>\n",
       "    .dataframe tbody tr th:only-of-type {\n",
       "        vertical-align: middle;\n",
       "    }\n",
       "\n",
       "    .dataframe tbody tr th {\n",
       "        vertical-align: top;\n",
       "    }\n",
       "\n",
       "    .dataframe thead th {\n",
       "        text-align: right;\n",
       "    }\n",
       "</style>\n",
       "<table border=\"1\" class=\"dataframe\">\n",
       "  <thead>\n",
       "    <tr style=\"text-align: right;\">\n",
       "      <th></th>\n",
       "      <th>channel</th>\n",
       "      <th>check</th>\n",
       "      <th>comment</th>\n",
       "      <th>first</th>\n",
       "      <th>guys</th>\n",
       "      <th>hey</th>\n",
       "      <th>leave</th>\n",
       "      <th>like</th>\n",
       "      <th>monkey</th>\n",
       "      <th>monkeys</th>\n",
       "      <th>new</th>\n",
       "      <th>please</th>\n",
       "      <th>shirt</th>\n",
       "      <th>subscribe</th>\n",
       "      <th>us</th>\n",
       "      <th>vid</th>\n",
       "      <th>white</th>\n",
       "    </tr>\n",
       "  </thead>\n",
       "  <tbody>\n",
       "    <tr>\n",
       "      <th>0</th>\n",
       "      <td>1</td>\n",
       "      <td>1</td>\n",
       "      <td>0</td>\n",
       "      <td>0</td>\n",
       "      <td>0</td>\n",
       "      <td>0</td>\n",
       "      <td>0</td>\n",
       "      <td>0</td>\n",
       "      <td>0</td>\n",
       "      <td>0</td>\n",
       "      <td>0</td>\n",
       "      <td>0</td>\n",
       "      <td>0</td>\n",
       "      <td>0</td>\n",
       "      <td>0</td>\n",
       "      <td>0</td>\n",
       "      <td>0</td>\n",
       "    </tr>\n",
       "    <tr>\n",
       "      <th>1</th>\n",
       "      <td>1</td>\n",
       "      <td>1</td>\n",
       "      <td>1</td>\n",
       "      <td>1</td>\n",
       "      <td>1</td>\n",
       "      <td>1</td>\n",
       "      <td>1</td>\n",
       "      <td>1</td>\n",
       "      <td>1</td>\n",
       "      <td>1</td>\n",
       "      <td>1</td>\n",
       "      <td>2</td>\n",
       "      <td>1</td>\n",
       "      <td>1</td>\n",
       "      <td>1</td>\n",
       "      <td>1</td>\n",
       "      <td>1</td>\n",
       "    </tr>\n",
       "    <tr>\n",
       "      <th>2</th>\n",
       "      <td>0</td>\n",
       "      <td>0</td>\n",
       "      <td>0</td>\n",
       "      <td>0</td>\n",
       "      <td>0</td>\n",
       "      <td>0</td>\n",
       "      <td>0</td>\n",
       "      <td>0</td>\n",
       "      <td>0</td>\n",
       "      <td>0</td>\n",
       "      <td>0</td>\n",
       "      <td>0</td>\n",
       "      <td>0</td>\n",
       "      <td>0</td>\n",
       "      <td>0</td>\n",
       "      <td>0</td>\n",
       "      <td>0</td>\n",
       "    </tr>\n",
       "    <tr>\n",
       "      <th>3</th>\n",
       "      <td>1</td>\n",
       "      <td>0</td>\n",
       "      <td>0</td>\n",
       "      <td>0</td>\n",
       "      <td>0</td>\n",
       "      <td>0</td>\n",
       "      <td>0</td>\n",
       "      <td>0</td>\n",
       "      <td>0</td>\n",
       "      <td>0</td>\n",
       "      <td>0</td>\n",
       "      <td>0</td>\n",
       "      <td>0</td>\n",
       "      <td>0</td>\n",
       "      <td>0</td>\n",
       "      <td>0</td>\n",
       "      <td>0</td>\n",
       "    </tr>\n",
       "    <tr>\n",
       "      <th>4</th>\n",
       "      <td>0</td>\n",
       "      <td>1</td>\n",
       "      <td>0</td>\n",
       "      <td>0</td>\n",
       "      <td>0</td>\n",
       "      <td>0</td>\n",
       "      <td>0</td>\n",
       "      <td>0</td>\n",
       "      <td>0</td>\n",
       "      <td>0</td>\n",
       "      <td>0</td>\n",
       "      <td>0</td>\n",
       "      <td>0</td>\n",
       "      <td>0</td>\n",
       "      <td>0</td>\n",
       "      <td>0</td>\n",
       "      <td>0</td>\n",
       "    </tr>\n",
       "  </tbody>\n",
       "</table>\n",
       "</div>"
      ],
      "text/plain": [
       "   channel  check  comment  first  guys  hey  leave  like  monkey  monkeys  \\\n",
       "0        1      1        0      0     0    0      0     0       0        0   \n",
       "1        1      1        1      1     1    1      1     1       1        1   \n",
       "2        0      0        0      0     0    0      0     0       0        0   \n",
       "3        1      0        0      0     0    0      0     0       0        0   \n",
       "4        0      1        0      0     0    0      0     0       0        0   \n",
       "\n",
       "   new  please  shirt  subscribe  us  vid  white  \n",
       "0    0       0      0          0   0    0      0  \n",
       "1    1       2      1          1   1    1      1  \n",
       "2    0       0      0          0   0    0      0  \n",
       "3    0       0      0          0   0    0      0  \n",
       "4    0       0      0          0   0    0      0  "
      ]
     },
     "execution_count": 34,
     "metadata": {},
     "output_type": "execute_result"
    }
   ],
   "source": [
    "count_vector = pd.DataFrame(CV_comments.toarray(),\n",
    "                      columns=CV.get_feature_names())\n",
    "count_vector.T[count_vector.T[1] != 0].T.head(5) #this data frame was transposed to make... \n",
    "#the words as rows and chosing words with atleast 1 count in 2nd sentence."
   ]
  },
  {
   "cell_type": "code",
   "execution_count": 35,
   "id": "fa56db00",
   "metadata": {},
   "outputs": [
    {
     "data": {
      "text/plain": [
       "(1956, 4735)"
      ]
     },
     "execution_count": 35,
     "metadata": {},
     "output_type": "execute_result"
    }
   ],
   "source": [
    "count_vector.shape"
   ]
  },
  {
   "cell_type": "markdown",
   "id": "bc166872",
   "metadata": {},
   "source": [
    "## TF-IDF"
   ]
  },
  {
   "cell_type": "code",
   "execution_count": 36,
   "id": "8cfdf2cd",
   "metadata": {},
   "outputs": [],
   "source": [
    "from sklearn.feature_extraction.text import TfidfTransformer"
   ]
  },
  {
   "cell_type": "code",
   "execution_count": 37,
   "id": "9ff9254e",
   "metadata": {},
   "outputs": [],
   "source": [
    "tfidf = TfidfTransformer().fit(CV_comments)"
   ]
  },
  {
   "cell_type": "code",
   "execution_count": 38,
   "id": "d00938ab",
   "metadata": {},
   "outputs": [
    {
     "name": "stdout",
     "output_type": "stream",
     "text": [
      "Shape of the data in tfidf score:  (1956, 4735)\n"
     ]
    }
   ],
   "source": [
    "tfidf_comments = tfidf.transform(CV_comments)\n",
    "print('Shape of the data in tfidf score: ', tfidf_comments.shape)"
   ]
  },
  {
   "cell_type": "markdown",
   "id": "d162b94c",
   "metadata": {},
   "source": [
    "The TfidfTransformer() creates a TF-IDF score for every word in a sentence. The rows and columns for this matrix is the same as CV_comments, but the data is the TF-IDF score instead of counts of words. More info on Tf-Idf: https://scikit-learn.org/stable/modules/generated/sklearn.feature_extraction.text.TfidfTransformer.html#sklearn.feature_extraction.text.TfidfTransformer"
   ]
  },
  {
   "cell_type": "code",
   "execution_count": 39,
   "id": "b2f57d6c",
   "metadata": {},
   "outputs": [
    {
     "data": {
      "text/html": [
       "<div>\n",
       "<style scoped>\n",
       "    .dataframe tbody tr th:only-of-type {\n",
       "        vertical-align: middle;\n",
       "    }\n",
       "\n",
       "    .dataframe tbody tr th {\n",
       "        vertical-align: top;\n",
       "    }\n",
       "\n",
       "    .dataframe thead th {\n",
       "        text-align: right;\n",
       "    }\n",
       "</style>\n",
       "<table border=\"1\" class=\"dataframe\">\n",
       "  <thead>\n",
       "    <tr style=\"text-align: right;\">\n",
       "      <th></th>\n",
       "      <th>channel</th>\n",
       "      <th>check</th>\n",
       "      <th>comment</th>\n",
       "      <th>first</th>\n",
       "      <th>guys</th>\n",
       "      <th>hey</th>\n",
       "      <th>leave</th>\n",
       "      <th>like</th>\n",
       "      <th>monkey</th>\n",
       "      <th>monkeys</th>\n",
       "      <th>new</th>\n",
       "      <th>please</th>\n",
       "      <th>shirt</th>\n",
       "      <th>subscribe</th>\n",
       "      <th>us</th>\n",
       "      <th>vid</th>\n",
       "      <th>white</th>\n",
       "    </tr>\n",
       "  </thead>\n",
       "  <tbody>\n",
       "    <tr>\n",
       "      <th>0</th>\n",
       "      <td>0.221162</td>\n",
       "      <td>0.155438</td>\n",
       "      <td>0.000000</td>\n",
       "      <td>0.00000</td>\n",
       "      <td>0.000000</td>\n",
       "      <td>0.000000</td>\n",
       "      <td>0.000000</td>\n",
       "      <td>0.000000</td>\n",
       "      <td>0.000000</td>\n",
       "      <td>0.000000</td>\n",
       "      <td>0.000000</td>\n",
       "      <td>0.000000</td>\n",
       "      <td>0.000000</td>\n",
       "      <td>0.000000</td>\n",
       "      <td>0.000000</td>\n",
       "      <td>0.000000</td>\n",
       "      <td>0.000000</td>\n",
       "    </tr>\n",
       "    <tr>\n",
       "      <th>1</th>\n",
       "      <td>0.153454</td>\n",
       "      <td>0.107851</td>\n",
       "      <td>0.196991</td>\n",
       "      <td>0.22651</td>\n",
       "      <td>0.175785</td>\n",
       "      <td>0.183823</td>\n",
       "      <td>0.258771</td>\n",
       "      <td>0.143405</td>\n",
       "      <td>0.333372</td>\n",
       "      <td>0.351442</td>\n",
       "      <td>0.191127</td>\n",
       "      <td>0.297466</td>\n",
       "      <td>0.320552</td>\n",
       "      <td>0.147112</td>\n",
       "      <td>0.235453</td>\n",
       "      <td>0.302482</td>\n",
       "      <td>0.302482</td>\n",
       "    </tr>\n",
       "    <tr>\n",
       "      <th>2</th>\n",
       "      <td>0.000000</td>\n",
       "      <td>0.000000</td>\n",
       "      <td>0.000000</td>\n",
       "      <td>0.00000</td>\n",
       "      <td>0.000000</td>\n",
       "      <td>0.000000</td>\n",
       "      <td>0.000000</td>\n",
       "      <td>0.000000</td>\n",
       "      <td>0.000000</td>\n",
       "      <td>0.000000</td>\n",
       "      <td>0.000000</td>\n",
       "      <td>0.000000</td>\n",
       "      <td>0.000000</td>\n",
       "      <td>0.000000</td>\n",
       "      <td>0.000000</td>\n",
       "      <td>0.000000</td>\n",
       "      <td>0.000000</td>\n",
       "    </tr>\n",
       "    <tr>\n",
       "      <th>3</th>\n",
       "      <td>0.248300</td>\n",
       "      <td>0.000000</td>\n",
       "      <td>0.000000</td>\n",
       "      <td>0.00000</td>\n",
       "      <td>0.000000</td>\n",
       "      <td>0.000000</td>\n",
       "      <td>0.000000</td>\n",
       "      <td>0.000000</td>\n",
       "      <td>0.000000</td>\n",
       "      <td>0.000000</td>\n",
       "      <td>0.000000</td>\n",
       "      <td>0.000000</td>\n",
       "      <td>0.000000</td>\n",
       "      <td>0.000000</td>\n",
       "      <td>0.000000</td>\n",
       "      <td>0.000000</td>\n",
       "      <td>0.000000</td>\n",
       "    </tr>\n",
       "    <tr>\n",
       "      <th>4</th>\n",
       "      <td>0.000000</td>\n",
       "      <td>0.222261</td>\n",
       "      <td>0.000000</td>\n",
       "      <td>0.00000</td>\n",
       "      <td>0.000000</td>\n",
       "      <td>0.000000</td>\n",
       "      <td>0.000000</td>\n",
       "      <td>0.000000</td>\n",
       "      <td>0.000000</td>\n",
       "      <td>0.000000</td>\n",
       "      <td>0.000000</td>\n",
       "      <td>0.000000</td>\n",
       "      <td>0.000000</td>\n",
       "      <td>0.000000</td>\n",
       "      <td>0.000000</td>\n",
       "      <td>0.000000</td>\n",
       "      <td>0.000000</td>\n",
       "    </tr>\n",
       "  </tbody>\n",
       "</table>\n",
       "</div>"
      ],
      "text/plain": [
       "    channel     check   comment    first      guys       hey     leave  \\\n",
       "0  0.221162  0.155438  0.000000  0.00000  0.000000  0.000000  0.000000   \n",
       "1  0.153454  0.107851  0.196991  0.22651  0.175785  0.183823  0.258771   \n",
       "2  0.000000  0.000000  0.000000  0.00000  0.000000  0.000000  0.000000   \n",
       "3  0.248300  0.000000  0.000000  0.00000  0.000000  0.000000  0.000000   \n",
       "4  0.000000  0.222261  0.000000  0.00000  0.000000  0.000000  0.000000   \n",
       "\n",
       "       like    monkey   monkeys       new    please     shirt  subscribe  \\\n",
       "0  0.000000  0.000000  0.000000  0.000000  0.000000  0.000000   0.000000   \n",
       "1  0.143405  0.333372  0.351442  0.191127  0.297466  0.320552   0.147112   \n",
       "2  0.000000  0.000000  0.000000  0.000000  0.000000  0.000000   0.000000   \n",
       "3  0.000000  0.000000  0.000000  0.000000  0.000000  0.000000   0.000000   \n",
       "4  0.000000  0.000000  0.000000  0.000000  0.000000  0.000000   0.000000   \n",
       "\n",
       "         us       vid     white  \n",
       "0  0.000000  0.000000  0.000000  \n",
       "1  0.235453  0.302482  0.302482  \n",
       "2  0.000000  0.000000  0.000000  \n",
       "3  0.000000  0.000000  0.000000  \n",
       "4  0.000000  0.000000  0.000000  "
      ]
     },
     "execution_count": 39,
     "metadata": {},
     "output_type": "execute_result"
    }
   ],
   "source": [
    "tfidf_vector = pd.DataFrame(tfidf_comments.toarray(),\n",
    "                      columns=CV.get_feature_names())\n",
    "tfidf_vector.T[tfidf_vector.T[1] != 0].T.head(5) # same procedure that was applied for count_vector"
   ]
  },
  {
   "cell_type": "markdown",
   "id": "f99e8a6a",
   "metadata": {},
   "source": [
    "## Train Test Split"
   ]
  },
  {
   "cell_type": "code",
   "execution_count": 40,
   "id": "03638307",
   "metadata": {},
   "outputs": [
    {
     "name": "stdout",
     "output_type": "stream",
     "text": [
      "Number of training data points:  1564\n",
      "Number of testing data points:  392\n"
     ]
    }
   ],
   "source": [
    "from sklearn.model_selection import train_test_split\n",
    "\n",
    "X_train, X_test, y_train, y_test = \\\n",
    "train_test_split(tfidf_vector, y, test_size=0.2, random_state = 101)\n",
    "\n",
    "print('Number of training data points: ', len(X_train))\n",
    "print('Number of testing data points: ', len(X_test))"
   ]
  },
  {
   "cell_type": "markdown",
   "id": "d16a74a2",
   "metadata": {},
   "source": [
    "## Model + Evaluation\n",
    "\n"
   ]
  },
  {
   "cell_type": "code",
   "execution_count": 41,
   "id": "873f3798",
   "metadata": {},
   "outputs": [],
   "source": [
    "from sklearn.naive_bayes import MultinomialNB"
   ]
  },
  {
   "cell_type": "code",
   "execution_count": 42,
   "id": "fd754069",
   "metadata": {},
   "outputs": [
    {
     "data": {
      "text/plain": [
       "MultinomialNB()"
      ]
     },
     "execution_count": 42,
     "metadata": {},
     "output_type": "execute_result"
    }
   ],
   "source": [
    "mb = MultinomialNB()\n",
    "mb.fit(X_train,y_train)"
   ]
  },
  {
   "cell_type": "code",
   "execution_count": 43,
   "id": "505850af",
   "metadata": {},
   "outputs": [],
   "source": [
    "pred = mb.predict(X_test)"
   ]
  },
  {
   "cell_type": "code",
   "execution_count": 44,
   "id": "3b6d734b",
   "metadata": {},
   "outputs": [],
   "source": [
    "from sklearn.metrics import classification_report, confusion_matrix"
   ]
  },
  {
   "cell_type": "markdown",
   "id": "459e276e",
   "metadata": {},
   "source": [
    "From the Confusion matrix and classification report, the classificaion model seems to be efficient. Number of corrrect prediction are significantly higher than number of wronf prediction. The final f1-score (0.92) is sufficiently high."
   ]
  },
  {
   "cell_type": "code",
   "execution_count": 45,
   "id": "7896dae7",
   "metadata": {},
   "outputs": [
    {
     "data": {
      "image/png": "[encoded data removed]",
      "text/plain": [
       "<Figure size 432x288 with 1 Axes>"
      ]
     },
     "metadata": {
      "needs_background": "light"
     },
     "output_type": "display_data"
    }
   ],
   "source": [
    "conf_mat = confusion_matrix(pred,y_test)\n",
    "label = ['ham', 'spam']\n",
    "conf = pd.DataFrame(conf_mat, index = label, columns = label)\n",
    "\n",
    "sns.heatmap(conf, annot = True, fmt = 'g', cbar = False)\n",
    "plt.title('Confusion Matrix')\n",
    "plt.show()"
   ]
  },
  {
   "cell_type": "code",
   "execution_count": 46,
   "id": "401676de",
   "metadata": {},
   "outputs": [
    {
     "name": "stdout",
     "output_type": "stream",
     "text": [
      "Number of Corrrect Prediction =  360\n",
      "Number of wrong Prediction =  32\n"
     ]
    }
   ],
   "source": [
    "print('Number of Corrrect Prediction = ', conf_mat[0,0]+conf_mat[1,1])\n",
    "print('Number of wrong Prediction = ', conf_mat[0,1]+conf_mat[1,0])"
   ]
  },
  {
   "cell_type": "code",
   "execution_count": 47,
   "id": "c9d138a1",
   "metadata": {},
   "outputs": [
    {
     "name": "stdout",
     "output_type": "stream",
     "text": [
      "              precision    recall  f1-score   support\n",
      "\n",
      "           0       0.93      0.89      0.91       180\n",
      "           1       0.91      0.94      0.93       212\n",
      "\n",
      "    accuracy                           0.92       392\n",
      "   macro avg       0.92      0.92      0.92       392\n",
      "weighted avg       0.92      0.92      0.92       392\n",
      "\n"
     ]
    }
   ],
   "source": [
    "print(classification_report(pred,y_test))"
   ]
  },
  {
   "cell_type": "markdown",
   "id": "eb84f038",
   "metadata": {},
   "source": [
    "## End of Notebook. Thank you!"
   ]
  }
 ],
 "metadata": {
  "kernelspec": {
   "display_name": "Python 3",
   "language": "python",
   "name": "python3"
  },
  "language_info": {
   "codemirror_mode": {
    "name": "ipython",
    "version": 3
   },
   "file_extension": ".py",
   "mimetype": "text/x-python",
   "name": "python",
   "nbconvert_exporter": "python",
   "pygments_lexer": "ipython3",
   "version": "3.8.8"
  }
 },
 "nbformat": 4,
 "nbformat_minor": 5
}
